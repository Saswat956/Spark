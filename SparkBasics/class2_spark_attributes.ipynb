{
  "nbformat": 4,
  "nbformat_minor": 0,
  "metadata": {
    "colab": {
      "provenance": []
    },
    "kernelspec": {
      "name": "python3",
      "display_name": "Python 3"
    },
    "language_info": {
      "name": "python"
    }
  },
  "cells": [
    {
      "cell_type": "markdown",
      "source": [
        "#SparkConf"
      ],
      "metadata": {
        "id": "VCE6pFOFMQyR"
      }
    },
    {
      "cell_type": "code",
      "execution_count": null,
      "metadata": {
        "colab": {
          "base_uri": "https://localhost:8080/"
        },
        "id": "gEjZA4B-HUjI",
        "outputId": "3a549d9f-bb24-4bf2-cacf-5af18ba0fbbd"
      },
      "outputs": [
        {
          "output_type": "stream",
          "name": "stdout",
          "text": [
            "Collecting pyspark\n",
            "  Downloading pyspark-3.5.2.tar.gz (317.3 MB)\n",
            "\u001b[2K     \u001b[90m━━━━━━━━━━━━━━━━━━━━━━━━━━━━━━━━━━━━━━━━\u001b[0m \u001b[32m317.3/317.3 MB\u001b[0m \u001b[31m4.8 MB/s\u001b[0m eta \u001b[36m0:00:00\u001b[0m\n",
            "\u001b[?25h  Preparing metadata (setup.py) ... \u001b[?25l\u001b[?25hdone\n",
            "Requirement already satisfied: py4j==0.10.9.7 in /usr/local/lib/python3.10/dist-packages (from pyspark) (0.10.9.7)\n",
            "Building wheels for collected packages: pyspark\n",
            "  Building wheel for pyspark (setup.py) ... \u001b[?25l\u001b[?25hdone\n",
            "  Created wheel for pyspark: filename=pyspark-3.5.2-py2.py3-none-any.whl size=317812365 sha256=4d2bb444f9d1601f466c3f0d605d0e9969b9b8eb3f3963b033eca46dfd1646ff\n",
            "  Stored in directory: /root/.cache/pip/wheels/34/34/bd/03944534c44b677cd5859f248090daa9fb27b3c8f8e5f49574\n",
            "Successfully built pyspark\n",
            "Installing collected packages: pyspark\n",
            "Successfully installed pyspark-3.5.2\n",
            "2g\n"
          ]
        }
      ],
      "source": [
        "!pip install pyspark\n",
        "from pyspark import SparkConf\n",
        "\n",
        "# Create a new SparkConf object\n",
        "conf = SparkConf()\n",
        "\n",
        "# Set configuration properties\n",
        "conf.set(\"spark.executor.memory\", \"2g\")\n",
        "conf.setMaster(\"local[2]\")  # Use 2 cores locally\n",
        "conf.setAppName(\"My Spark App\")\n",
        "\n",
        "# Get a configuration property\n",
        "print(conf.get(\"spark.executor.memory\"))  # prints \"2g\"\n",
        "\n",
        "# Set the Spark home directory\n",
        "conf.setSparkHome(\"/path/to/spark/installation\")\n",
        "\n",
        "# Create a SparkContext with the configured SparkConf\n",
        "from pyspark import SparkContext\n",
        "sc = SparkContext(conf=conf)"
      ]
    },
    {
      "cell_type": "code",
      "source": [
        "conf.get(\"spark.master\")"
      ],
      "metadata": {
        "colab": {
          "base_uri": "https://localhost:8080/",
          "height": 35
        },
        "id": "zuose0kdHumW",
        "outputId": "ff1d165a-9fdd-40c2-c7ba-b930bdeb6c84"
      },
      "execution_count": null,
      "outputs": [
        {
          "output_type": "execute_result",
          "data": {
            "text/plain": [
              "'local[2]'"
            ],
            "application/vnd.google.colaboratory.intrinsic+json": {
              "type": "string"
            }
          },
          "metadata": {},
          "execution_count": 2
        }
      ]
    },
    {
      "cell_type": "code",
      "source": [
        "conf.get(\"spark.app.name\")"
      ],
      "metadata": {
        "colab": {
          "base_uri": "https://localhost:8080/",
          "height": 35
        },
        "id": "02JaKGhaIZc9",
        "outputId": "c0f493de-aef3-4e4f-9bd0-8c06611a1a18"
      },
      "execution_count": null,
      "outputs": [
        {
          "output_type": "execute_result",
          "data": {
            "text/plain": [
              "'My Spark App'"
            ],
            "application/vnd.google.colaboratory.intrinsic+json": {
              "type": "string"
            }
          },
          "metadata": {},
          "execution_count": 3
        }
      ]
    },
    {
      "cell_type": "markdown",
      "source": [
        "#SparkFile"
      ],
      "metadata": {
        "id": "8wN424y_KjB1"
      }
    },
    {
      "cell_type": "markdown",
      "source": [
        "Resolves the path of files added through SparkContext.addFile()"
      ],
      "metadata": {
        "id": "3phljdTYKtjw"
      }
    },
    {
      "cell_type": "markdown",
      "source": [
        ">get(filename):specifies the path of the file added through sc.addFile()\n",
        "\n",
        ">getrootdirectory():specifies the directory added through sc.addFile()"
      ],
      "metadata": {
        "id": "WW2s5pM4K5kg"
      }
    },
    {
      "cell_type": "code",
      "source": [
        "from pyspark import SparkFiles\n",
        "SparkFiles.getRootDirectory()"
      ],
      "metadata": {
        "colab": {
          "base_uri": "https://localhost:8080/",
          "height": 35
        },
        "id": "7mte74vpIgGw",
        "outputId": "404fe997-4012-4502-caa2-a221923fe488"
      },
      "execution_count": null,
      "outputs": [
        {
          "output_type": "execute_result",
          "data": {
            "text/plain": [
              "'/tmp/spark-888a70fc-959a-4685-a259-dd67910c3edd/userFiles-8124c1b9-d70f-41e5-ac20-ee5c44f6ec9b'"
            ],
            "application/vnd.google.colaboratory.intrinsic+json": {
              "type": "string"
            }
          },
          "metadata": {},
          "execution_count": 4
        }
      ]
    },
    {
      "cell_type": "code",
      "source": [
        "SparkFiles.get(\"userFiles-37d0ec48-fa8d-4d81-b2ea-0ce0fb56a4b7\")"
      ],
      "metadata": {
        "colab": {
          "base_uri": "https://localhost:8080/",
          "height": 52
        },
        "id": "OOjc7eTZUf9n",
        "outputId": "5e1cbf8d-9ff5-4f7c-ddc8-c58ed0eb393f"
      },
      "execution_count": null,
      "outputs": [
        {
          "output_type": "execute_result",
          "data": {
            "text/plain": [
              "'/tmp/spark-888a70fc-959a-4685-a259-dd67910c3edd/userFiles-8124c1b9-d70f-41e5-ac20-ee5c44f6ec9b/userFiles-37d0ec48-fa8d-4d81-b2ea-0ce0fb56a4b7'"
            ],
            "application/vnd.google.colaboratory.intrinsic+json": {
              "type": "string"
            }
          },
          "metadata": {},
          "execution_count": 5
        }
      ]
    },
    {
      "cell_type": "code",
      "source": [
        "sc.stop()"
      ],
      "metadata": {
        "id": "hdrtvAMULrSD"
      },
      "execution_count": null,
      "outputs": []
    },
    {
      "cell_type": "code",
      "source": [],
      "metadata": {
        "id": "OWs3BhiAMkaA"
      },
      "execution_count": null,
      "outputs": []
    }
  ]
}